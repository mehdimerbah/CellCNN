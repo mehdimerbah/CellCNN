{
 "cells": [
  {
   "cell_type": "markdown",
   "metadata": {},
   "source": [
    "## Library Import"
   ]
  },
  {
   "cell_type": "code",
   "execution_count": 6,
   "metadata": {},
   "outputs": [],
   "source": [
    "import numpy as np\n",
    "import pandas as pd\n",
    "import os\n",
    "import fcsparser\n",
    "from sklearn.model_selection import train_test_split, GridSearchCV, RandomizedSearchCV\n",
    "from sklearn.preprocessing import StandardScaler\n",
    "from sklearn.linear_model import LogisticRegression\n",
    "from sklearn.svm import SVC\n",
    "from sklearn.ensemble import RandomForestClassifier\n",
    "from sklearn.metrics import accuracy_score, precision_score, recall_score, f1_score, roc_auc_score, classification_report"
   ]
  },
  {
   "cell_type": "markdown",
   "metadata": {},
   "source": [
    "## WDIR and PATHS definition"
   ]
  },
  {
   "cell_type": "code",
   "execution_count": 5,
   "metadata": {},
   "outputs": [],
   "source": [
    "# Define input and output directories\n",
    "WDIR = os.getcwd()\n",
    "DATA_PATH = os.path.join(WDIR, 'data')\n",
    "FCS_DATA_PATH = os.path.join(DATA_PATH, 'gated_NK')\n",
    "DATA_LABELS_PATH = os.path.join(DATA_PATH, 'NK_fcs_samples_with_labels.csv')\n",
    "MARKERS_PATH = os.path.join(DATA_PATH, 'NK_markers.csv')\n",
    "OUTPUT_PATH = os.path.join(WDIR, 'output')\n",
    "PLOT_PATH = os.path.join(OUTPUT_PATH, 'plots')"
   ]
  },
  {
   "cell_type": "markdown",
   "metadata": {},
   "source": [
    "## Load Data"
   ]
  },
  {
   "cell_type": "code",
   "execution_count": 31,
   "metadata": {},
   "outputs": [
    {
     "name": "stderr",
     "output_type": "stream",
     "text": [
      "/opt/miniconda3/envs/single-cell-playground/lib/python3.12/site-packages/fcsparser/api.py:326: UserWarning: The first two characters were:\n",
      " \\$. The last two characters were: \\\u0000\n",
      "Parser expects the same delimiter character in beginning and end of TEXT segment. This file may be parsed incorrectly!\n",
      "  warnings.warn(msg)\n",
      "/opt/miniconda3/envs/single-cell-playground/lib/python3.12/site-packages/fcsparser/api.py:326: UserWarning: The first two characters were:\n",
      " \\$. The last two characters were: \\\u0000\n",
      "Parser expects the same delimiter character in beginning and end of TEXT segment. This file may be parsed incorrectly!\n",
      "  warnings.warn(msg)\n",
      "/opt/miniconda3/envs/single-cell-playground/lib/python3.12/site-packages/fcsparser/api.py:326: UserWarning: The first two characters were:\n",
      " \\$. The last two characters were: \\\u0000\n",
      "Parser expects the same delimiter character in beginning and end of TEXT segment. This file may be parsed incorrectly!\n",
      "  warnings.warn(msg)\n",
      "/opt/miniconda3/envs/single-cell-playground/lib/python3.12/site-packages/fcsparser/api.py:326: UserWarning: The first two characters were:\n",
      " \\$. The last two characters were: \\\u0000\n",
      "Parser expects the same delimiter character in beginning and end of TEXT segment. This file may be parsed incorrectly!\n",
      "  warnings.warn(msg)\n",
      "/opt/miniconda3/envs/single-cell-playground/lib/python3.12/site-packages/fcsparser/api.py:326: UserWarning: The first two characters were:\n",
      " \\$. The last two characters were: \\\u0000\n",
      "Parser expects the same delimiter character in beginning and end of TEXT segment. This file may be parsed incorrectly!\n",
      "  warnings.warn(msg)\n",
      "/opt/miniconda3/envs/single-cell-playground/lib/python3.12/site-packages/fcsparser/api.py:326: UserWarning: The first two characters were:\n",
      " \\$. The last two characters were: \\\u0000\n",
      "Parser expects the same delimiter character in beginning and end of TEXT segment. This file may be parsed incorrectly!\n",
      "  warnings.warn(msg)\n",
      "/opt/miniconda3/envs/single-cell-playground/lib/python3.12/site-packages/fcsparser/api.py:326: UserWarning: The first two characters were:\n",
      " \\$. The last two characters were: \\\u0000\n",
      "Parser expects the same delimiter character in beginning and end of TEXT segment. This file may be parsed incorrectly!\n",
      "  warnings.warn(msg)\n",
      "/opt/miniconda3/envs/single-cell-playground/lib/python3.12/site-packages/fcsparser/api.py:326: UserWarning: The first two characters were:\n",
      " \\$. The last two characters were: \\\u0000\n",
      "Parser expects the same delimiter character in beginning and end of TEXT segment. This file may be parsed incorrectly!\n",
      "  warnings.warn(msg)\n",
      "/opt/miniconda3/envs/single-cell-playground/lib/python3.12/site-packages/fcsparser/api.py:326: UserWarning: The first two characters were:\n",
      " \\$. The last two characters were: \\\u0000\n",
      "Parser expects the same delimiter character in beginning and end of TEXT segment. This file may be parsed incorrectly!\n",
      "  warnings.warn(msg)\n",
      "/opt/miniconda3/envs/single-cell-playground/lib/python3.12/site-packages/fcsparser/api.py:326: UserWarning: The first two characters were:\n",
      " \\$. The last two characters were: \\\u0000\n",
      "Parser expects the same delimiter character in beginning and end of TEXT segment. This file may be parsed incorrectly!\n",
      "  warnings.warn(msg)\n",
      "/opt/miniconda3/envs/single-cell-playground/lib/python3.12/site-packages/fcsparser/api.py:326: UserWarning: The first two characters were:\n",
      " \\$. The last two characters were: \\\u0000\n",
      "Parser expects the same delimiter character in beginning and end of TEXT segment. This file may be parsed incorrectly!\n",
      "  warnings.warn(msg)\n",
      "/opt/miniconda3/envs/single-cell-playground/lib/python3.12/site-packages/fcsparser/api.py:326: UserWarning: The first two characters were:\n",
      " \\$. The last two characters were: \\\u0000\n",
      "Parser expects the same delimiter character in beginning and end of TEXT segment. This file may be parsed incorrectly!\n",
      "  warnings.warn(msg)\n",
      "/opt/miniconda3/envs/single-cell-playground/lib/python3.12/site-packages/fcsparser/api.py:326: UserWarning: The first two characters were:\n",
      " \\$. The last two characters were: \\\u0000\n",
      "Parser expects the same delimiter character in beginning and end of TEXT segment. This file may be parsed incorrectly!\n",
      "  warnings.warn(msg)\n",
      "/opt/miniconda3/envs/single-cell-playground/lib/python3.12/site-packages/fcsparser/api.py:326: UserWarning: The first two characters were:\n",
      " \\$. The last two characters were: \\\u0000\n",
      "Parser expects the same delimiter character in beginning and end of TEXT segment. This file may be parsed incorrectly!\n",
      "  warnings.warn(msg)\n",
      "/opt/miniconda3/envs/single-cell-playground/lib/python3.12/site-packages/fcsparser/api.py:326: UserWarning: The first two characters were:\n",
      " \\$. The last two characters were: \\\u0000\n",
      "Parser expects the same delimiter character in beginning and end of TEXT segment. This file may be parsed incorrectly!\n",
      "  warnings.warn(msg)\n",
      "/opt/miniconda3/envs/single-cell-playground/lib/python3.12/site-packages/fcsparser/api.py:326: UserWarning: The first two characters were:\n",
      " \\$. The last two characters were: \\\u0000\n",
      "Parser expects the same delimiter character in beginning and end of TEXT segment. This file may be parsed incorrectly!\n",
      "  warnings.warn(msg)\n",
      "/opt/miniconda3/envs/single-cell-playground/lib/python3.12/site-packages/fcsparser/api.py:326: UserWarning: The first two characters were:\n",
      " \\$. The last two characters were: \\\u0000\n",
      "Parser expects the same delimiter character in beginning and end of TEXT segment. This file may be parsed incorrectly!\n",
      "  warnings.warn(msg)\n",
      "/opt/miniconda3/envs/single-cell-playground/lib/python3.12/site-packages/fcsparser/api.py:326: UserWarning: The first two characters were:\n",
      " \\$. The last two characters were: \\\u0000\n",
      "Parser expects the same delimiter character in beginning and end of TEXT segment. This file may be parsed incorrectly!\n",
      "  warnings.warn(msg)\n",
      "/opt/miniconda3/envs/single-cell-playground/lib/python3.12/site-packages/fcsparser/api.py:326: UserWarning: The first two characters were:\n",
      " \\$. The last two characters were: \\\u0000\n",
      "Parser expects the same delimiter character in beginning and end of TEXT segment. This file may be parsed incorrectly!\n",
      "  warnings.warn(msg)\n",
      "/opt/miniconda3/envs/single-cell-playground/lib/python3.12/site-packages/fcsparser/api.py:326: UserWarning: The first two characters were:\n",
      " \\$. The last two characters were: \\\u0000\n",
      "Parser expects the same delimiter character in beginning and end of TEXT segment. This file may be parsed incorrectly!\n",
      "  warnings.warn(msg)\n"
     ]
    }
   ],
   "source": [
    "# Load fcs file labels\n",
    "labels = pd.read_csv(DATA_LABELS_PATH)\n",
    "\n",
    "markers = ['CD3', 'CD27', 'CD19', 'CD4', 'CD8', 'CD57', '2DL1-S1', 'TRAIL', '2DL2-L3-S2',\n",
    "           'CD16', 'CD10', '3DL1-S1', 'CD117', '2DS4', 'ILT2-CD85j', 'NKp46', 'NKG2D',\n",
    "           'NKG2C', '2B4', 'CD33', 'CD11b', 'NKp30', 'CD122', '3DL1', 'NKp44', 'CD127', '2DL1',\n",
    "           'CD94', 'CD34', 'CCR7', '2DL3', 'NKG2A', 'HLA-DR', '2DL4', 'CD56', '2DL5', 'CD25']\n",
    "    \n",
    "# Load FCS data and add labels to the data for every file from the labels file \n",
    "def load_fcs_data(fcs_folder):\n",
    "    data_list = []\n",
    "    for filename in os.listdir(fcs_folder):\n",
    "        if filename.endswith(\".fcs\"):\n",
    "            path = os.path.join(fcs_folder, filename)\n",
    "            meta, data = fcsparser.parse(path)\n",
    "            data.head()\n",
    "            data['filename'] = filename\n",
    "            data['label'] = labels[labels['fcs_filename'] == filename]['label'].values[0]\n",
    "            data_list.append(data)\n",
    "    return pd.concat(data_list)\n",
    "\n",
    "data = load_fcs_data(FCS_DATA_PATH)"
   ]
  },
  {
   "cell_type": "code",
   "execution_count": 8,
   "metadata": {},
   "outputs": [],
   "source": [
    "# Data subsampling\n",
    "def subsample_scale_data(data, size=10000):\n",
    "    subsample = data.sample(n=size, random_state=42, ignore_index=True)\n",
    "    subsample_labels = subsample['label']\n",
    "    markers = ['CD3', 'CD27', 'CD19', 'CD4', 'CD8', 'CD57', '2DL1-S1', 'TRAIL', '2DL2-L3-S2',\n",
    "           'CD16', 'CD10', '3DL1-S1', 'CD117', '2DS4', 'ILT2-CD85j', 'NKp46', 'NKG2D',\n",
    "           'NKG2C', '2B4', 'CD33', 'CD11b', 'NKp30', 'CD122', '3DL1', 'NKp44', 'CD127', '2DL1',\n",
    "           'CD94', 'CD34', 'CCR7', '2DL3', 'NKG2A', 'HLA-DR', '2DL4', 'CD56', '2DL5', 'CD25']\n",
    "    \n",
    "    subsample = subsample[markers]\n",
    "\n",
    "    scaler = StandardScaler()\n",
    "    subsample_scaled = scaler.fit_transform(subsample)\n",
    "    \n",
    "\n",
    "    return subsample_scaled, subsample_labels"
   ]
  },
  {
   "cell_type": "code",
   "execution_count": 27,
   "metadata": {},
   "outputs": [],
   "source": [
    "X_50k, y_50k = subsample_scale_data(data, size=50000)"
   ]
  },
  {
   "cell_type": "code",
   "execution_count": 33,
   "metadata": {},
   "outputs": [
    {
     "data": {
      "text/plain": [
       "(50000, 37)"
      ]
     },
     "execution_count": 33,
     "metadata": {},
     "output_type": "execute_result"
    }
   ],
   "source": [
    "X_50k.shape"
   ]
  },
  {
   "cell_type": "code",
   "execution_count": 28,
   "metadata": {},
   "outputs": [],
   "source": [
    "# Define a function for logging model performance metrics\n",
    "def evaluate_model(y_true, y_pred, y_prob=None):\n",
    "    metrics = {\n",
    "        'Accuracy': accuracy_score(y_true, y_pred),\n",
    "        'Precision': precision_score(y_true, y_pred, average='weighted'),\n",
    "        'Recall': recall_score(y_true, y_pred, average='weighted'),\n",
    "        'F1-Score': f1_score(y_true, y_pred, average='weighted')\n",
    "    }\n",
    "    if y_prob is not None:\n",
    "        metrics['ROC AUC'] = roc_auc_score(y_true, y_prob, average='weighted', multi_class='ovr')\n",
    "    \n",
    "    return metrics"
   ]
  },
  {
   "cell_type": "markdown",
   "metadata": {},
   "source": [
    "## Preprocessing and Splitting"
   ]
  },
  {
   "cell_type": "code",
   "execution_count": 29,
   "metadata": {},
   "outputs": [],
   "source": [
    "# Split into training and test sets\n",
    "X_train, X_test, y_train, y_test = train_test_split(X_50k, y_50k, test_size=0.2, random_state=42)\n",
    "\n",
    "# Define hyperparameter grids for optimization\n",
    "param_grids = {\n",
    "    'LogisticRegression': {\n",
    "        'C': [0.1, 1, 10, 100],\n",
    "        'solver': ['lbfgs', 'liblinear']\n",
    "    },\n",
    "    'SVM': {\n",
    "        'C': [0.1, 1, 10, 100],\n",
    "        'kernel': ['linear', 'rbf'],\n",
    "        'gamma': ['scale', 'auto']\n",
    "    },\n",
    "    'RandomForest': {\n",
    "        'n_estimators': [50, 100, 200],\n",
    "        'max_depth': [10, 20, 30, None],\n",
    "        'min_samples_split': [2, 5, 10]\n",
    "    }\n",
    "}"
   ]
  },
  {
   "cell_type": "code",
   "execution_count": null,
   "metadata": {},
   "outputs": [],
   "source": [
    "## Let's define our classifiers like we did before \n",
    "classifiers = {\n",
    "    'LogisticRegression': LogisticRegression(max_iter=1000),\n",
    "    'SVM': SVC(probability=True),\n",
    "    'RandomForest': RandomForestClassifier()\n",
    "}\n",
    "\n",
    "# Set up optimization and evaluation\n",
    "optimized_results = {}\n",
    "\n",
    "for name, clf in classifiers.items():\n",
    "    print(f\"Optimizing {name}...\")\n",
    "    if name == 'LogisticRegression' or name == 'SVM':\n",
    "        # Use GridSearchCV for Logistic Regression and SVM\n",
    "        search = GridSearchCV(clf, param_grids[name], cv=5, scoring='accuracy', n_jobs=-1)\n",
    "    else:\n",
    "        # Use RandomizedSearchCV for Random Forest\n",
    "        search = RandomizedSearchCV(clf, param_distributions=param_grids[name], cv=5, n_iter=10, scoring='accuracy', n_jobs=-1)\n",
    "    \n",
    "    search.fit(X_train, y_train)\n",
    "    best_model = search.best_estimator_\n",
    "\n",
    "    # Predict and evaluate\n",
    "    y_pred = best_model.predict(X_test)\n",
    "    #y_prob = best_model.predict_proba(X_test) if hasattr(best_model, 'predict_proba') else None\n",
    "    y_prob = None\n",
    "\n",
    "    # Log the evaluation metrics\n",
    "    print(y_prob)\n",
    "    metrics = evaluate_model(y_test, y_pred, y_prob)\n",
    "    optimized_results[name] = {\n",
    "        'Best Params': search.best_params_,\n",
    "        'Metrics': metrics\n",
    "    }\n",
    "    \n",
    "    print(f\"{name} Best Params: {search.best_params_}\")\n",
    "    print(f\"{name} Performance:\\n\", pd.DataFrame(metrics, index=[0]))"
   ]
  },
  {
   "cell_type": "code",
   "execution_count": null,
   "metadata": {},
   "outputs": [],
   "source": [
    "# Comparative Analysis\n",
    "print(\"\\nComparative Analysis of Optimized Models:\\n\")\n",
    "comparison_df = pd.DataFrame({name: res['Metrics'] for name, res in optimized_results.items()})\n",
    "print(comparison_df)\n"
   ]
  }
 ],
 "metadata": {
  "kernelspec": {
   "display_name": "single-cell-playground",
   "language": "python",
   "name": "python3"
  },
  "language_info": {
   "codemirror_mode": {
    "name": "ipython",
    "version": 3
   },
   "file_extension": ".py",
   "mimetype": "text/x-python",
   "name": "python",
   "nbconvert_exporter": "python",
   "pygments_lexer": "ipython3",
   "version": "3.12.6"
  }
 },
 "nbformat": 4,
 "nbformat_minor": 2
}
